{
 "cells": [
  {
   "cell_type": "code",
   "execution_count": 6,
   "id": "a3b00417",
   "metadata": {},
   "outputs": [
    {
     "name": "stdout",
     "output_type": "stream",
     "text": [
      "donner la valeur n:4\n",
      "24\n"
     ]
    }
   ],
   "source": [
    "#exercice n2\n",
    "n=int(input(\"donner la valeur n:\"))\n",
    "while n<0:\n",
    "    print(\"doner une valeur positif\")\n",
    "    if n==0:\n",
    "        print(\"le factorielle de 0=1\")\n",
    "else:\n",
    "    f=1\n",
    "    for i in range (2,n+1):\n",
    "        f=i*f\n",
    "    print(f)"
   ]
  },
  {
   "cell_type": "code",
   "execution_count": 3,
   "id": "966133ea",
   "metadata": {},
   "outputs": [
    {
     "name": "stdout",
     "output_type": "stream",
     "text": [
      "[2002, 2009, 2016, 2023, 2037, 2044, 2051, 2058, 2072, 2079, 2086, 2093, 2107, 2114, 2121, 2128, 2142, 2149, 2156, 2163, 2177, 2184, 2191, 2198, 2212, 2219, 2226, 2233, 2247, 2254, 2261, 2268, 2282, 2289, 2296, 2303, 2317, 2324, 2331, 2338, 2352, 2359, 2366, 2373, 2387, 2394, 2401, 2408, 2422, 2429, 2436, 2443, 2457, 2464, 2471, 2478, 2492, 2499, 2506, 2513, 2527, 2534, 2541, 2548, 2562, 2569, 2576, 2583, 2597, 2604, 2611, 2618, 2632, 2639, 2646, 2653, 2667, 2674, 2681, 2688, 2702, 2709, 2716, 2723, 2737, 2744, 2751, 2758, 2772, 2779, 2786, 2793, 2807, 2814, 2821, 2828, 2842, 2849, 2856, 2863, 2877, 2884, 2891, 2898, 2912, 2919, 2926, 2933, 2947, 2954, 2961, 2968, 2982, 2989, 2996, 3003, 3017, 3024, 3031, 3038, 3052, 3059, 3066, 3073, 3087, 3094, 3101, 3108, 3122, 3129, 3136, 3143, 3157, 3164, 3171, 3178, 3192, 3199]\n"
     ]
    }
   ],
   "source": [
    "#exercice n1\n",
    "a=2000\n",
    "b=3201\n",
    "x=[]\n",
    "for i in range(a,b,1):\n",
    "    if i%7==0 and i%5!=0:\n",
    "        x.append(i)\n",
    "print(x)"
   ]
  },
  {
   "cell_type": "code",
   "execution_count": 8,
   "id": "9c6bc6bf",
   "metadata": {},
   "outputs": [
    {
     "name": "stdout",
     "output_type": "stream",
     "text": [
      "donner un nombre:5\n",
      "{1: 1}\n",
      "{1: 1, 2: 4}\n",
      "{1: 1, 2: 4, 3: 9}\n",
      "{1: 1, 2: 4, 3: 9, 4: 16}\n",
      "{1: 1, 2: 4, 3: 9, 4: 16, 5: 25}\n"
     ]
    }
   ],
   "source": [
    "#exercice 3\n",
    "n=int(input(\"donner un nombre:\"))\n",
    "d={}\n",
    "for i in range(1,n+1):\n",
    "    d[i]=i*i\n",
    "    print(d)"
   ]
  },
  {
   "cell_type": "code",
   "execution_count": 11,
   "id": "051f80b9",
   "metadata": {},
   "outputs": [
    {
     "name": "stdout",
     "output_type": "stream",
     "text": [
      "donner une chaine:hedi\n",
      "4\n",
      "doner lindex a suprimer2\n",
      "hei\n"
     ]
    }
   ],
   "source": [
    "#exercice 4\n",
    "ch=str(input(\"donner une chaine:\"))\n",
    "n=len(ch)\n",
    "print(n)\n",
    "a=int(input(\"doner lindex a suprimer\"))\n",
    "for i in range (0,n-1):\n",
    "    if(a==i):\n",
    "        ch=ch[:i]+ch[i+1:]\n",
    "print(ch)\n",
    "    "
   ]
  },
  {
   "cell_type": "markdown",
   "id": "38fdf093",
   "metadata": {},
   "source": []
  },
  {
   "cell_type": "code",
   "execution_count": 2,
   "id": "8ff8cdfa",
   "metadata": {},
   "outputs": [
    {
     "name": "stdout",
     "output_type": "stream",
     "text": [
      "[[0 1]\n",
      " [2 3]\n",
      " [4 5]]\n",
      "[[0, 1], [2, 3], [4, 5]]\n"
     ]
    }
   ],
   "source": [
    "#exercicie5\n",
    "import numpy as np\n",
    "tb=np.array([[0,1],[2,3],[4,5]])\n",
    "print(tb)\n",
    "liste=tb.tolist()\n",
    "print(liste)\n"
   ]
  },
  {
   "cell_type": "markdown",
   "id": "9839cc22",
   "metadata": {},
   "source": []
  },
  {
   "cell_type": "code",
   "execution_count": 3,
   "id": "a6d58ff5",
   "metadata": {},
   "outputs": [
    {
     "data": {
      "text/plain": [
       "array([[ 1., -1.],\n",
       "       [-1.,  1.]])"
      ]
     },
     "execution_count": 3,
     "metadata": {},
     "output_type": "execute_result"
    }
   ],
   "source": [
    "#exercice6\n",
    "import numpy as np\n",
    "tb1=np.array([0,1,2])\n",
    "tb2=np.array([2,1,0])\n",
    "np.cov(tb1,tb2)"
   ]
  },
  {
   "cell_type": "code",
   "execution_count": null,
   "id": "540cc2b3",
   "metadata": {},
   "outputs": [],
   "source": []
  }
 ],
 "metadata": {
  "kernelspec": {
   "display_name": "Python 3 (ipykernel)",
   "language": "python",
   "name": "python3"
  },
  "language_info": {
   "codemirror_mode": {
    "name": "ipython",
    "version": 3
   },
   "file_extension": ".py",
   "mimetype": "text/x-python",
   "name": "python",
   "nbconvert_exporter": "python",
   "pygments_lexer": "ipython3",
   "version": "3.11.5"
  }
 },
 "nbformat": 4,
 "nbformat_minor": 5
}
